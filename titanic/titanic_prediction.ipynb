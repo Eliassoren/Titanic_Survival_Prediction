{
  "cells": [
    {
      "cell_type": "markdown",
      "metadata": {
        "id": "M-CYMaWFeI6y"
      },
      "source": [
        "### Imports"
      ]
    },
    {
      "cell_type": "code",
      "execution_count": null,
      "metadata": {
        "id": "I6hroF-geI60"
      },
      "outputs": [],
      "source": [
        "import numpy as np\n",
        "import pandas as pd\n",
        "\n",
        "from sklearn.impute import SimpleImputer\n",
        "from sklearn.preprocessing import StandardScaler, OneHotEncoder\n",
        "from sklearn.compose import ColumnTransformer\n",
        "from sklearn.pipeline import Pipeline\n",
        "from sklearn.neighbors import KNeighborsClassifier\n",
        "from sklearn.ensemble import VotingClassifier"
      ]
    },
    {
      "cell_type": "markdown",
      "metadata": {
        "id": "7IR3TYT0eI60"
      },
      "source": [
        "### Load data"
      ]
    },
    {
      "cell_type": "code",
      "execution_count": null,
      "metadata": {
        "id": "6ff9JDeeeI61"
      },
      "outputs": [],
      "source": [
        "train_data = pd.read_csv(\"train.csv\")\n",
        "test_data = pd.read_csv(\"test.csv\")\n",
        "data = pd.concat([train_data, test_data]).reset_index().drop([\"index\"], axis=1)"
      ]
    },
    {
      "cell_type": "markdown",
      "metadata": {
        "id": "xcOB0hpSeI61"
      },
      "source": [
        "### Feature Engineering"
      ]
    },
    {
      "cell_type": "markdown",
      "metadata": {
        "id": "1c25aceJeI62"
      },
      "source": [
        "Ad married status"
      ]
    },
    {
      "cell_type": "code",
      "execution_count": null,
      "metadata": {
        "id": "xZlyJsjqeI62"
      },
      "outputs": [],
      "source": [
        "data[\"Title\"] = data[\"Name\"].str.split(\", \", expand=True)[1].str.split(\".\", expand=True)[0]\n",
        "\n",
        "data[\"Title\"] = data[\"Title\"].replace([\"Mlle\", \"Ms\"], \"Mrs\")\n",
        "data[\"Married_Status\"] = np.where(data[\"Title\"] == \"Mrs\", 1, 0)"
      ]
    },
    {
      "cell_type": "markdown",
      "metadata": {
        "id": "QOMwO4DQeI62"
      },
      "source": [
        "Fill missing age based on title"
      ]
    },
    {
      "cell_type": "code",
      "execution_count": null,
      "metadata": {
        "id": "R9dhM9Q-eI62"
      },
      "outputs": [],
      "source": [
        "data[\"Title\"] = data[\"Name\"].str.extract(\"([A-Za-z]+)\\.\", expand=True)\n",
        "\n",
        "# Replacing rare titles with more common ones\n",
        "title_mapping = {\n",
        "    \"Mlle\": \"Miss\",\n",
        "    \"Major\": \"Mr\",\n",
        "    \"Col\": \"Mr\",\n",
        "    \"Sir\": \"Mr\",\n",
        "    \"Don\": \"Mr\",\n",
        "    \"Mme\": \"Miss\",\n",
        "    \"Jonkheer\": \"Mr\",\n",
        "    \"Lady\": \"Mrs\",\n",
        "    \"Capt\": \"Mr\",\n",
        "    \"Countess\": \"Mrs\",\n",
        "    \"Ms\": \"Miss\",\n",
        "    \"Dona\": \"Mrs\",\n",
        "}\n",
        "data.replace({\"Title\": title_mapping}, inplace=True)\n",
        "\n",
        "titles = [\"Dr\", \"Master\", \"Miss\", \"Mr\", \"Mrs\", \"Rev\"]\n",
        "for title in titles:\n",
        "    group_median_age = data.groupby(\"Title\")[\"Age\"].median()[titles.index(title)]\n",
        "    data.loc[(data[\"Age\"].isnull()) & (data[\"Title\"] == title), \"Age\"] = group_median_age\n",
        "\n",
        "data.drop(\"Title\", axis=1, inplace=True)"
      ]
    },
    {
      "cell_type": "markdown",
      "metadata": {
        "id": "zLJ5sYpSeI63"
      },
      "source": [
        "Group into deck groups based on cabin survival rate"
      ]
    },
    {
      "cell_type": "code",
      "execution_count": null,
      "metadata": {
        "id": "f_YaUT6heI63"
      },
      "outputs": [],
      "source": [
        "data[\"Deck\"] = data[\"Cabin\"].apply(lambda s: s[0] if pd.notnull(s) else \"M\")\n",
        "\n",
        "data[\"Deck\"].replace(\"T\", \"M\", inplace=True)\n",
        "data[\"Deck\"].replace([\"B\", \"D\", \"E\"], \"BDE\", inplace=True)\n",
        "data[\"Deck\"].replace([\"C\", \"F\"], \"CF\", inplace=True)\n",
        "data[\"Deck\"].replace([\"A\", \"G\"], \"AG\", inplace=True)"
      ]
    },
    {
      "cell_type": "markdown",
      "metadata": {
        "id": "NihKIQlEeI63"
      },
      "source": [
        "Extract surnames"
      ]
    },
    {
      "cell_type": "code",
      "execution_count": null,
      "metadata": {
        "id": "TIJe_mWYeI64"
      },
      "outputs": [],
      "source": [
        "data[\"Surname\"] = data[\"Name\"].apply(lambda x: x.split(\",\")[0])"
      ]
    },
    {
      "cell_type": "markdown",
      "metadata": {
        "id": "rCCZTS7aeI64"
      },
      "source": [
        "Create ticket ID"
      ]
    },
    {
      "cell_type": "code",
      "execution_count": null,
      "metadata": {
        "id": "xf_CQ-yueI64"
      },
      "outputs": [],
      "source": [
        "def transform_to_ticket_ID(row):\n",
        "    row[\"Ticket_ID\"] = f\"{row.Pclass}-{row.Ticket[:-1]}-{row.Fare}-{row.Embarked}\"\n",
        "    return row\n",
        "\n",
        "\n",
        "data = data.apply(transform_to_ticket_ID, axis=\"columns\")"
      ]
    },
    {
      "cell_type": "markdown",
      "metadata": {
        "id": "00cm31LueI64"
      },
      "source": [
        "Create group id"
      ]
    },
    {
      "cell_type": "code",
      "execution_count": null,
      "metadata": {
        "id": "32yGV6fUeI64"
      },
      "outputs": [],
      "source": [
        "def transform_to_group_ID(row):\n",
        "    row[\"Group_ID\"] = f\"{row.Surname}-{row.Ticket_ID}\"\n",
        "    return row\n",
        "\n",
        "\n",
        "data = data.apply(transform_to_group_ID, axis=\"columns\")"
      ]
    },
    {
      "cell_type": "markdown",
      "metadata": {
        "id": "A3itMEEOeI64"
      },
      "source": [
        "Create woman, man, boy groups"
      ]
    },
    {
      "cell_type": "code",
      "execution_count": null,
      "metadata": {
        "id": "dUwcT2rQeI64"
      },
      "outputs": [],
      "source": [
        "data[\"Title\"] = \"man\"\n",
        "data.loc[data.Sex == \"female\", \"Title\"] = \"woman\"\n",
        "data.loc[data[\"Name\"].str.contains(\"Master\"), \"Title\"] = \"boy\""
      ]
    },
    {
      "cell_type": "markdown",
      "metadata": {
        "id": "5r7XZdZseI64"
      },
      "source": [
        "Assign noGroup to the rest of passengers"
      ]
    },
    {
      "cell_type": "code",
      "execution_count": null,
      "metadata": {
        "id": "toALhB1veI65"
      },
      "outputs": [],
      "source": [
        "data.loc[data.Title == \"man\", \"Group_ID\"] = \"no_group\"\n",
        "\n",
        "data[\"Group_Count\"] = data.loc[data.Title != \"man\"].groupby(\"Group_ID\")[\"Group_ID\"].transform(\"count\")\n",
        "\n",
        "data.loc[data.Group_Count <= 1, \"Group_ID\"] = \"no_group\""
      ]
    },
    {
      "cell_type": "markdown",
      "metadata": {
        "id": "nsnvJD3QeI65"
      },
      "source": [
        "Assign women to group based on ticket if there is one"
      ]
    },
    {
      "cell_type": "code",
      "execution_count": null,
      "metadata": {
        "id": "rg-MjueheI65"
      },
      "outputs": [],
      "source": [
        "for i in range(0, 1309):\n",
        "    if (data.loc[i, \"Title\"] != \"man\") & (data.loc[i, \"Group_ID\"] == \"no_group\"):\n",
        "        data.loc[i, \"Group_ID\"] = data.loc[\n",
        "            (data[\"Ticket_ID\"] == data.loc[i, \"Ticket_ID\"]) & (data.Title != \"man\"), \"Group_ID\"\n",
        "        ].iloc[0]"
      ]
    },
    {
      "cell_type": "markdown",
      "metadata": {
        "id": "x79NIKBIeI65"
      },
      "source": [
        "Calculate survival for groups"
      ]
    },
    {
      "cell_type": "code",
      "execution_count": null,
      "metadata": {
        "id": "E22BEkTjeI65"
      },
      "outputs": [],
      "source": [
        "data[\"Group_Survival\"] = (\n",
        "    data.loc[(data.Title != \"man\") & (data.Group_ID != \"no_group\")]\n",
        "    .groupby(\"Group_ID\")\n",
        "    .Survived.transform(\"mean\")\n",
        ")"
      ]
    },
    {
      "cell_type": "markdown",
      "metadata": {
        "id": "dYpk6aoheI65"
      },
      "source": [
        "Assign 0 to 3rd class groups"
      ]
    },
    {
      "cell_type": "code",
      "execution_count": null,
      "metadata": {
        "id": "gmqBPYkZeI66"
      },
      "outputs": [],
      "source": [
        "group_columns = [\"PassengerId\", \"Survived\", \"Group_Survival\", \"Name\", \"Title\", \"Group_ID\"]\n",
        "\n",
        "# get the groups based on the surname\n",
        "test_groups = set(data[891:1309].Group_ID.unique()) - set(data[0:891].Group_ID.unique())\n",
        "data.loc[data.Group_ID.isin(test_groups), group_columns].sort_values(by=\"Group_ID\")\n",
        "\n",
        "data.loc[data.Group_ID.isin(test_groups), \"Group_Survival\"] = 0\n",
        "data.loc[(data.Group_ID.isin(test_groups)) & (data.Pclass != 3), \"Group_Survival\"] = 1"
      ]
    },
    {
      "cell_type": "markdown",
      "metadata": {
        "id": "muH3y-gdeI66"
      },
      "source": [
        "Families prediction\n",
        "set women and boy prediction to 1 unless they group survival is set to 0"
      ]
    },
    {
      "cell_type": "code",
      "execution_count": null,
      "metadata": {
        "id": "c-Qk1u8geI66"
      },
      "outputs": [],
      "source": [
        "data.loc[891:1308, \"Survival_Prediction\"] = 0\n",
        "data.loc[891:1308, \"Survival_Prediction\"][(data.Sex == \"female\")] = 1\n",
        "data.loc[891:1308, \"Survival_Prediction\"][\n",
        "    (data.Sex == \"female\") & (data[\"Group_Survival\"] == 0)\n",
        "] = 0\n",
        "data.loc[891:1308, \"Survival_Prediction\"][\n",
        "    (data.Title == \"boy\") & (data[\"Group_Survival\"] == 1)\n",
        "] = 1"
      ]
    },
    {
      "cell_type": "markdown",
      "metadata": {
        "id": "2x3EELPveI66"
      },
      "source": [
        "Adjust fare by count of given ticket"
      ]
    },
    {
      "cell_type": "code",
      "execution_count": null,
      "metadata": {
        "id": "AKJhzhbXeI66"
      },
      "outputs": [],
      "source": [
        "data[\"Adjusted_Fare\"] = data[\"Fare\"] / data.groupby(\"Ticket\")[\"Ticket\"].transform(\"count\")"
      ]
    },
    {
      "cell_type": "markdown",
      "metadata": {
        "id": "TM4t2UPxeI66"
      },
      "source": [
        "# Create Gender Based Survival Models"
      ]
    },
    {
      "cell_type": "code",
      "execution_count": null,
      "metadata": {
        "id": "33hinWv4eI66"
      },
      "outputs": [],
      "source": [
        "def get_gender_based_data(sex: str):\n",
        "    return (\n",
        "        data[0:891].loc[(data.Sex == sex) & (data.Group_Survival.isnull())],\n",
        "        data[891:1309].loc[(data.Sex == sex) & (data.Group_Survival.isnull())],\n",
        "    )"
      ]
    },
    {
      "cell_type": "code",
      "execution_count": null,
      "metadata": {
        "id": "ePaOPHETeI67"
      },
      "outputs": [],
      "source": [
        "from typing import List\n",
        "\n",
        "\n",
        "def create_preprocessor(numerical_columns: List[str], categorical_columns: List[str]):\n",
        "    numerical_transformer = Pipeline(\n",
        "        steps=[(\"imputer\", SimpleImputer()), (\"scaler\", StandardScaler())]\n",
        "    )\n",
        "\n",
        "    categorical_transformer = Pipeline(\n",
        "        steps=[\n",
        "            (\"imputer\", SimpleImputer(strategy=\"most_frequent\")),\n",
        "            (\"onehot\", OneHotEncoder(handle_unknown=\"ignore\")),\n",
        "        ]\n",
        "    )\n",
        "\n",
        "    preprocessor = ColumnTransformer(\n",
        "        transformers=[\n",
        "            (\"num\", numerical_transformer, numerical_columns),\n",
        "            (\"cat\", categorical_transformer, categorical_columns),\n",
        "        ]\n",
        "    )\n",
        "\n",
        "    return preprocessor"
      ]
    },
    {
      "cell_type": "markdown",
      "metadata": {
        "id": "fhARx9ZDeI67"
      },
      "source": [
        "### Male Survival Model"
      ]
    },
    {
      "cell_type": "markdown",
      "metadata": {
        "id": "hg2b-k6neI67"
      },
      "source": [
        "Get isolated data"
      ]
    },
    {
      "cell_type": "code",
      "execution_count": null,
      "metadata": {
        "id": "IgvVRI9DeI67"
      },
      "outputs": [],
      "source": [
        "train_male, test_male = get_gender_based_data(\"male\")"
      ]
    },
    {
      "cell_type": "markdown",
      "metadata": {
        "id": "8EITJYa0eI67"
      },
      "source": [
        "Create preprocessor with given numerical and categorical columns"
      ]
    },
    {
      "cell_type": "code",
      "execution_count": null,
      "metadata": {
        "id": "y4WJdsmEeI67"
      },
      "outputs": [],
      "source": [
        "numerical_cols_m = [\"Adjusted_Fare\"]\n",
        "categorical_cols_m = [\"Pclass\", \"Embarked\", \"Married_Status\"]\n",
        "preprocessor_m = create_preprocessor(numerical_cols_m, categorical_cols_m)"
      ]
    },
    {
      "cell_type": "markdown",
      "metadata": {
        "id": "gPjsx1nFeI67"
      },
      "source": [
        "Create ensemble of KNN's"
      ]
    },
    {
      "cell_type": "code",
      "execution_count": null,
      "metadata": {
        "id": "o2DqyPzheI67"
      },
      "outputs": [],
      "source": [
        "m1 = KNeighborsClassifier(n_neighbors=1)\n",
        "m2 = KNeighborsClassifier(n_neighbors=3)\n",
        "m3 = KNeighborsClassifier(n_neighbors=5)\n",
        "m4 = KNeighborsClassifier(n_neighbors=7)\n",
        "m5 = KNeighborsClassifier(n_neighbors=16)\n",
        "\n",
        "male_pipeline = Pipeline(\n",
        "    steps=[\n",
        "        (\"preprocessor\", preprocessor_m),\n",
        "        (\"voting\", VotingClassifier([(\"m1\", m1), (\"m2\", m2), (\"m3\", m3), (\"m4\", m4), (\"m5\", m5)], voting=\"soft\")),\n",
        "    ]\n",
        ")"
      ]
    },
    {
      "cell_type": "code",
      "execution_count": null,
      "metadata": {
        "id": "S5DO6GEUeI67"
      },
      "outputs": [],
      "source": [
        "features_m = [\"Adjusted_Fare\", \"Pclass\", \"Embarked\", \"Married_Status\"]\n",
        "y_m = train_male[\"Survived\"]\n",
        "X_m = train_male[features_m]"
      ]
    },
    {
      "cell_type": "code",
      "execution_count": null,
      "metadata": {
        "id": "06DI4jDAeI67"
      },
      "outputs": [],
      "source": [
        "male_pipeline.fit(X_m, y_m)\n",
        "learn_train_m = male_pipeline.predict(X_m)"
      ]
    },
    {
      "cell_type": "code",
      "execution_count": null,
      "metadata": {
        "id": "QBSU_HHFeI68"
      },
      "outputs": [],
      "source": [
        "X_test_m = test_male[features_m]\n",
        "proba_m = male_pipeline.predict_proba(X_test_m)[:, 1]\n",
        "predictions_m = np.where(proba_m > 0.5, 1, 0)"
      ]
    },
    {
      "cell_type": "code",
      "execution_count": null,
      "metadata": {
        "id": "Cy4nHGGYeI68",
        "outputId": "ec3f2576-bd22-4715-e3c6-fdff107ca6e0"
      },
      "outputs": [
        {
          "name": "stdout",
          "output_type": "stream",
          "text": [
            "Predicted that 14 men will survive:\n",
            "                                 Name\n",
            "919           Brady, Mr. John Bertram\n",
            "925          Mock, Mr. Philipp Edmund\n",
            "930                     Hee, Mr. Ling\n",
            "941          Smith, Mr. Lucien Philip\n",
            "959   Tucker, Mr. Gilbert Milligan Jr\n",
            "985               Birnbaum, Mr. Jakob\n",
            "986        Tenglin, Mr. Gunnar Isidor\n",
            "1017         Brobeck, Mr. Karl Rudolf\n",
            "1022        Gracie, Col. Archibald IV\n",
            "1068  Stengel, Mr. Charles Emil Henry\n",
            "1096        Omont, Mr. Alfred Fernand\n",
            "1114    Karlsson, Mr. Einar Gervasius\n",
            "1117       Asplund, Mr. Johan Charles\n",
            "1133     Spedden, Mr. Frederic Oakley\n"
          ]
        }
      ],
      "source": [
        "survived_m = test_male.loc[(predictions_m==1), [\"Name\"]]\n",
        "print(f\"Predicted that {len(survived_m)} men will survive:\", survived_m, sep=\"\\n\")"
      ]
    },
    {
      "cell_type": "markdown",
      "metadata": {
        "id": "ZoJ4kir9eI68"
      },
      "source": [
        "### Solo Female Survival Model"
      ]
    },
    {
      "cell_type": "markdown",
      "metadata": {
        "id": "MPklb56ZeI68"
      },
      "source": [
        "Get isolated data"
      ]
    },
    {
      "cell_type": "code",
      "execution_count": null,
      "metadata": {
        "id": "RVmSDP7_eI68"
      },
      "outputs": [],
      "source": [
        "train_female, test_female = get_gender_based_data(\"female\")"
      ]
    },
    {
      "cell_type": "markdown",
      "metadata": {
        "id": "npepyn7GeI68"
      },
      "source": [
        "Create preprocessor with given numerical and categorical columns"
      ]
    },
    {
      "cell_type": "code",
      "execution_count": null,
      "metadata": {
        "id": "d2OmEFFKeI68"
      },
      "outputs": [],
      "source": [
        "numerical_cols_f = [\"Adjusted_Fare\", \"Age\"]\n",
        "categorical_cols_f = [\"Pclass\", \"Deck\", \"Married_Status\"]\n",
        "preprocessor_f = create_preprocessor(numerical_cols_f, categorical_cols_f)"
      ]
    },
    {
      "cell_type": "markdown",
      "metadata": {
        "id": "6kBdMo97eI69"
      },
      "source": [
        "Create ensemble of KNN's"
      ]
    },
    {
      "cell_type": "code",
      "execution_count": null,
      "metadata": {
        "id": "jTeyjuvFeI69"
      },
      "outputs": [],
      "source": [
        "f1 = KNeighborsClassifier(n_neighbors=2)\n",
        "f2 = KNeighborsClassifier(n_neighbors=5)\n",
        "f3 = KNeighborsClassifier(n_neighbors=9)\n",
        "f4 = KNeighborsClassifier(n_neighbors=10)\n",
        "f5 = KNeighborsClassifier(n_neighbors=16)\n",
        "\n",
        "female_pipeline = Pipeline(\n",
        "    steps=[\n",
        "        (\"preprocessor\", preprocessor_f),\n",
        "        (\"voting\", VotingClassifier([(\"f1\", f1), (\"f2\", f2), (\"f3\", f3), (\"f4\", f4), (\"f5\", f5)])),\n",
        "    ]\n",
        ")"
      ]
    },
    {
      "cell_type": "code",
      "execution_count": null,
      "metadata": {
        "id": "YTbGyKTqeI69"
      },
      "outputs": [],
      "source": [
        "features_f = [\"Adjusted_Fare\", \"Pclass\", \"Deck\", \"Age\", \"Married_Status\"]\n",
        "y_f = train_female[\"Survived\"]\n",
        "X_f = train_female[features_f]"
      ]
    },
    {
      "cell_type": "code",
      "execution_count": null,
      "metadata": {
        "id": "wQvm0Y6GeI69"
      },
      "outputs": [],
      "source": [
        "female_pipeline.fit(X_f, y_f)\n",
        "learn_train_f = female_pipeline.predict(X_f)"
      ]
    },
    {
      "cell_type": "code",
      "execution_count": null,
      "metadata": {
        "id": "zW8g8gB6eI6-"
      },
      "outputs": [],
      "source": [
        "X_test_f = test_female[features_f]\n",
        "predictions_f = female_pipeline.predict(X_test_f)"
      ]
    },
    {
      "cell_type": "code",
      "execution_count": null,
      "metadata": {
        "id": "5l0m0cYweI6-",
        "outputId": "10fd4456-e360-4aa3-f999-ab61a6e5a6d9"
      },
      "outputs": [
        {
          "name": "stdout",
          "output_type": "stream",
          "text": [
            "Predicted that 10 non-group women will not survive:\n",
            "                                        Name\n",
            "897                     Connolly, Miss. Kate\n",
            "961                Mulvihill, Miss. Bertha E\n",
            "963           Nieminen, Miss. Manta Josefina\n",
            "970                   Doyle, Miss. Elizabeth\n",
            "977                       Barry, Miss. Julia\n",
            "1097                McGowan, Miss. Katherine\n",
            "1105  Andersson, Miss. Ida Augusta Margareta\n",
            "1182  Daly, Miss. Margaret Marcella Maggie\"\"\n",
            "1204                     Carr, Miss. Jeannie\n",
            "1303          Henriksson, Miss. Jenny Lovisa\n"
          ]
        }
      ],
      "source": [
        "died_f = test_female.loc[(predictions_f==0), [\"Name\"]]\n",
        "print(f\"Predicted that {len(died_f)} non-group women will not survive:\", died_f, sep=\"\\n\")"
      ]
    },
    {
      "cell_type": "markdown",
      "metadata": {
        "id": "x_Waj4MJeI6-"
      },
      "source": [
        "### Save"
      ]
    },
    {
      "cell_type": "markdown",
      "metadata": {
        "id": "BrpJoNjveI6-"
      },
      "source": [
        "Change the data according to the predicitons made by models"
      ]
    },
    {
      "cell_type": "code",
      "execution_count": null,
      "metadata": {
        "id": "dDpMA75leI6-"
      },
      "outputs": [],
      "source": [
        "data.loc[891:1308, \"Survival_Prediction\"][\n",
        "    (data.Sex == \"female\") & (data.Group_Survival.isnull())\n",
        "] = predictions_f\n",
        "data.loc[891:1308, \"Survival_Prediction\"][\n",
        "    (data.Sex == \"male\") & (data.Group_Survival.isnull())\n",
        "] = predictions_m"
      ]
    },
    {
      "cell_type": "markdown",
      "metadata": {
        "id": "EB6nuVl8eI6-"
      },
      "source": [
        "Generate output file"
      ]
    },
    {
      "cell_type": "code",
      "execution_count": null,
      "metadata": {
        "id": "NovtexbweI6-"
      },
      "outputs": [],
      "source": [
        "output = pd.DataFrame(\n",
        "    {\n",
        "        \"PassengerId\": data[891:1309].PassengerId,\n",
        "        \"Survived\": data[891:1309].Survival_Prediction.astype(\"int\"),\n",
        "    }\n",
        ")\n",
        "output.to_csv(\"submission.csv\", index=False)"
      ]
    }
  ],
  "metadata": {
    "kernelspec": {
      "display_name": "Python 3",
      "language": "python",
      "name": "python3"
    },
    "language_info": {
      "codemirror_mode": {
        "name": "ipython",
        "version": 3
      },
      "file_extension": ".py",
      "mimetype": "text/x-python",
      "name": "python",
      "nbconvert_exporter": "python",
      "pygments_lexer": "ipython3",
      "version": "3.10.6"
    },
    "orig_nbformat": 4,
    "colab": {
      "provenance": []
    }
  },
  "nbformat": 4,
  "nbformat_minor": 0
}