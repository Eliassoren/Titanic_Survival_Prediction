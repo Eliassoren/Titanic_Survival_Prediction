{
 "cells": [
  {
   "attachments": {},
   "cell_type": "markdown",
   "metadata": {},
   "source": [
    "### Imports"
   ]
  },
  {
   "cell_type": "code",
   "execution_count": 1134,
   "metadata": {},
   "outputs": [],
   "source": [
    "import numpy as np\n",
    "import pandas as pd\n",
    "import matplotlib.pyplot as plt\n",
    "\n",
    "from sklearn.impute import SimpleImputer\n",
    "from sklearn.preprocessing import StandardScaler, OneHotEncoder\n",
    "from sklearn.compose import ColumnTransformer\n",
    "from sklearn.pipeline import Pipeline\n",
    "from sklearn.neighbors import KNeighborsClassifier\n",
    "from sklearn.ensemble import VotingClassifier"
   ]
  },
  {
   "attachments": {},
   "cell_type": "markdown",
   "metadata": {},
   "source": [
    "### Load data"
   ]
  },
  {
   "cell_type": "code",
   "execution_count": 1135,
   "metadata": {},
   "outputs": [],
   "source": [
    "train_data = pd.read_csv(\"data/titanic/train.csv\")\n",
    "test_data = pd.read_csv(\"data/titanic/test.csv\")\n",
    "data = pd.concat([train_data, test_data]).reset_index().drop([\"index\"], axis=1)"
   ]
  },
  {
   "attachments": {},
   "cell_type": "markdown",
   "metadata": {},
   "source": [
    "### Feature Engineering"
   ]
  },
  {
   "attachments": {},
   "cell_type": "markdown",
   "metadata": {},
   "source": [
    "Add married status"
   ]
  },
  {
   "cell_type": "code",
   "execution_count": 1136,
   "metadata": {},
   "outputs": [],
   "source": [
    "data[\"Title\"] = data[\"Name\"].str.split(\", \", expand=True)[1].str.split(\".\", expand=True)[0]\n",
    "\n",
    "data[\"Title\"] = data[\"Title\"].replace([\"Mlle\", \"Ms\"], \"Mrs\")\n",
    "data[\"Married_Status\"] = np.where(data[\"Title\"] == \"Mrs\", 1, 0)"
   ]
  },
  {
   "attachments": {},
   "cell_type": "markdown",
   "metadata": {},
   "source": [
    "Fill missing age based on title"
   ]
  },
  {
   "cell_type": "code",
   "execution_count": 1137,
   "metadata": {},
   "outputs": [],
   "source": [
    "data[\"Title\"] = data[\"Name\"].str.extract(\"([A-Za-z]+)\\.\", expand=True)\n",
    "\n",
    "# Replacing rare titles with more common ones\n",
    "title_mapping = {\n",
    "    \"Mlle\": \"Miss\",\n",
    "    \"Major\": \"Mr\",\n",
    "    \"Col\": \"Mr\",\n",
    "    \"Sir\": \"Mr\",\n",
    "    \"Don\": \"Mr\",\n",
    "    \"Mme\": \"Miss\",\n",
    "    \"Jonkheer\": \"Mr\",\n",
    "    \"Lady\": \"Mrs\",\n",
    "    \"Capt\": \"Mr\",\n",
    "    \"Countess\": \"Mrs\",\n",
    "    \"Ms\": \"Miss\",\n",
    "    \"Dona\": \"Mrs\",\n",
    "}\n",
    "data.replace({\"Title\": title_mapping}, inplace=True)\n",
    "\n",
    "titles = [\"Dr\", \"Master\", \"Miss\", \"Mr\", \"Mrs\", \"Rev\"]\n",
    "for title in titles:\n",
    "    group_median_age = data.groupby(\"Title\")[\"Age\"].median()[titles.index(title)]\n",
    "    data.loc[(data[\"Age\"].isnull()) & (data[\"Title\"] == title), \"Age\"] = group_median_age\n",
    "\n",
    "data.drop(\"Title\", axis=1, inplace=True)"
   ]
  },
  {
   "attachments": {},
   "cell_type": "markdown",
   "metadata": {},
   "source": [
    "Group into deck groups based on cabin survival rate"
   ]
  },
  {
   "cell_type": "code",
   "execution_count": 1138,
   "metadata": {},
   "outputs": [],
   "source": [
    "data[\"Deck\"] = data[\"Cabin\"].apply(lambda s: s[0] if pd.notnull(s) else \"M\")\n",
    "\n",
    "data[\"Deck\"].replace(\"T\", \"M\", inplace=True)\n",
    "data[\"Deck\"].replace([\"B\", \"D\", \"E\"], \"BDE\", inplace=True)\n",
    "data[\"Deck\"].replace([\"C\", \"F\"], \"CF\", inplace=True)\n",
    "data[\"Deck\"].replace([\"A\", \"G\"], \"AG\", inplace=True)"
   ]
  },
  {
   "attachments": {},
   "cell_type": "markdown",
   "metadata": {},
   "source": [
    "Extract surnames"
   ]
  },
  {
   "cell_type": "code",
   "execution_count": 1139,
   "metadata": {},
   "outputs": [],
   "source": [
    "data[\"Surname\"] = data[\"Name\"].apply(lambda x: x.split(\",\")[0])"
   ]
  },
  {
   "attachments": {},
   "cell_type": "markdown",
   "metadata": {},
   "source": [
    "Create ticket ID"
   ]
  },
  {
   "cell_type": "code",
   "execution_count": 1140,
   "metadata": {},
   "outputs": [],
   "source": [
    "def transform_to_ticket_ID(row):\n",
    "    row[\"Ticket_ID\"] = f\"{row.Pclass}-{row.Ticket[:-1]}-{row.Fare}-{row.Embarked}\"\n",
    "    return row\n",
    "\n",
    "\n",
    "data = data.apply(transform_to_ticket_ID, axis=\"columns\")"
   ]
  },
  {
   "attachments": {},
   "cell_type": "markdown",
   "metadata": {},
   "source": [
    "Create group id"
   ]
  },
  {
   "cell_type": "code",
   "execution_count": 1141,
   "metadata": {},
   "outputs": [],
   "source": [
    "def transform_to_group_ID(row):\n",
    "    row[\"Group_ID\"] = f\"{row.Surname}-{row.Ticket_ID}\"\n",
    "    return row\n",
    "\n",
    "\n",
    "data = data.apply(transform_to_group_ID, axis=\"columns\")"
   ]
  },
  {
   "attachments": {},
   "cell_type": "markdown",
   "metadata": {},
   "source": [
    "Create woman, man, boy groups"
   ]
  },
  {
   "cell_type": "code",
   "execution_count": 1142,
   "metadata": {},
   "outputs": [],
   "source": [
    "data[\"Title\"] = \"man\"\n",
    "data.loc[data.Sex == \"female\", \"Title\"] = \"woman\"\n",
    "data.loc[data[\"Name\"].str.contains(\"Master\"), \"Title\"] = \"boy\""
   ]
  },
  {
   "attachments": {},
   "cell_type": "markdown",
   "metadata": {},
   "source": [
    "Assign noGroup to the rest of passengers"
   ]
  },
  {
   "cell_type": "code",
   "execution_count": 1143,
   "metadata": {},
   "outputs": [],
   "source": [
    "data.loc[data.Title == \"man\", \"Group_ID\"] = \"no_group\"\n",
    "\n",
    "data[\"WC_count\"] = data.loc[data.Title != \"man\"].groupby(\"Group_ID\")[\"Group_ID\"].transform(\"count\")\n",
    "\n",
    "data.loc[data.WC_count <= 1, \"Group_ID\"] = \"no_group\""
   ]
  },
  {
   "attachments": {},
   "cell_type": "markdown",
   "metadata": {},
   "source": [
    "Assign women to group based on ticket if there is one"
   ]
  },
  {
   "cell_type": "code",
   "execution_count": 1144,
   "metadata": {},
   "outputs": [],
   "source": [
    "for i in range(0, 1309):\n",
    "    if (data.loc[i, \"Title\"] != \"man\") & (data.loc[i, \"Group_ID\"] == \"no_group\"):\n",
    "        data.loc[i, \"Group_ID\"] = data.loc[\n",
    "            (data[\"Ticket_ID\"] == data.loc[i, \"Ticket_ID\"]) & (data.Title != \"man\"), \"Group_ID\"\n",
    "        ].iloc[0]"
   ]
  },
  {
   "attachments": {},
   "cell_type": "markdown",
   "metadata": {},
   "source": [
    "Calculate survival for groups"
   ]
  },
  {
   "cell_type": "code",
   "execution_count": 1145,
   "metadata": {},
   "outputs": [],
   "source": [
    "data[\"Group_Survival\"] = (\n",
    "    data.loc[(data.Title != \"man\") & (data.Group_ID != \"no_group\")]\n",
    "    .groupby(\"Group_ID\")\n",
    "    .Survived.transform(\"mean\")\n",
    ")"
   ]
  },
  {
   "attachments": {},
   "cell_type": "markdown",
   "metadata": {},
   "source": [
    "Assign 0 to 3rd class groups"
   ]
  },
  {
   "cell_type": "code",
   "execution_count": 1116,
   "metadata": {},
   "outputs": [],
   "source": [
    "group_columns = [\"PassengerId\", \"Survived\", \"Group_Survival\", \"Name\", \"Title\", \"Group_ID\"]\n",
    "\n",
    "# get the groups based on the surname\n",
    "test_groups = set(data[891:1309].Group_ID.unique()) - set(data[0:891].Group_ID.unique())\n",
    "data.loc[data.Group_ID.isin(test_groups), group_columns].sort_values(by=\"Group_ID\")\n",
    "\n",
    "data.loc[data.Group_ID.isin(test_groups), \"Group_Survival\"] = 0\n",
    "data.loc[(data.Group_ID.isin(test_groups)) & (data.Pclass != 3), \"Group_Survival\"] = 1"
   ]
  },
  {
   "attachments": {},
   "cell_type": "markdown",
   "metadata": {},
   "source": [
    "Families prediction\n",
    "set women and boy prediction to 1 unless they group survival is set to 0"
   ]
  },
  {
   "cell_type": "code",
   "execution_count": 1117,
   "metadata": {},
   "outputs": [],
   "source": [
    "data.loc[891:1308, \"Survival_Prediction\"] = 0\n",
    "data.loc[891:1308, \"Survival_Prediction\"][(data.Sex == \"female\")] = 1\n",
    "data.loc[891:1308, \"Survival_Prediction\"][\n",
    "    (data.Sex == \"female\") & (data[\"Group_Survival\"] == 0)\n",
    "] = 0\n",
    "data.loc[891:1308, \"Survival_Prediction\"][\n",
    "    (data.Title == \"boy\") & (data[\"Group_Survival\"] == 1)\n",
    "] = 1"
   ]
  },
  {
   "attachments": {},
   "cell_type": "markdown",
   "metadata": {},
   "source": [
    "Adjust fare by count of given ticket"
   ]
  },
  {
   "cell_type": "code",
   "execution_count": 1118,
   "metadata": {},
   "outputs": [],
   "source": [
    "data[\"Adjusted_Fare\"] = data[\"Fare\"] / data.groupby(\"Ticket\")[\"Ticket\"].transform(\"count\")"
   ]
  },
  {
   "attachments": {},
   "cell_type": "markdown",
   "metadata": {},
   "source": [
    "# Create Gender Based Survival Models"
   ]
  },
  {
   "cell_type": "code",
   "execution_count": 1119,
   "metadata": {},
   "outputs": [],
   "source": [
    "def get_gender_based_data(sex: str):\n",
    "    return (\n",
    "        data[0:891].loc[(data.Sex == sex) & (data.Group_Survival.isnull())],\n",
    "        data[891:1309].loc[(data.Sex == sex) & (data.Group_Survival.isnull())],\n",
    "    )"
   ]
  },
  {
   "cell_type": "code",
   "execution_count": 1120,
   "metadata": {},
   "outputs": [],
   "source": [
    "from typing import List\n",
    "\n",
    "\n",
    "def create_preprocessor(numerical_columns: List[str], categorical_columns: List[str]):\n",
    "    numerical_transformer = Pipeline(\n",
    "        steps=[(\"imputer\", SimpleImputer()), (\"scaler\", StandardScaler())]\n",
    "    )\n",
    "\n",
    "    categorical_transformer = Pipeline(\n",
    "        steps=[\n",
    "            (\"imputer\", SimpleImputer(strategy=\"most_frequent\")),\n",
    "            (\"onehot\", OneHotEncoder(handle_unknown=\"ignore\")),\n",
    "        ]\n",
    "    )\n",
    "\n",
    "    preprocessor = ColumnTransformer(\n",
    "        transformers=[\n",
    "            (\"num\", numerical_transformer, numerical_columns),\n",
    "            (\"cat\", categorical_transformer, categorical_columns),\n",
    "        ]\n",
    "    )\n",
    "\n",
    "    return preprocessor"
   ]
  },
  {
   "attachments": {},
   "cell_type": "markdown",
   "metadata": {},
   "source": [
    "### Male Survival Model"
   ]
  },
  {
   "attachments": {},
   "cell_type": "markdown",
   "metadata": {},
   "source": [
    "Get isolated data"
   ]
  },
  {
   "cell_type": "code",
   "execution_count": 1121,
   "metadata": {},
   "outputs": [],
   "source": [
    "train_male, test_male = get_gender_based_data(\"male\")"
   ]
  },
  {
   "attachments": {},
   "cell_type": "markdown",
   "metadata": {},
   "source": [
    "Create preprocessor with given numerical and categorical columns"
   ]
  },
  {
   "cell_type": "code",
   "execution_count": 1122,
   "metadata": {},
   "outputs": [],
   "source": [
    "numerical_cols_m = [\"Adjusted_Fare\"]\n",
    "categorical_cols_m = [\"Pclass\", \"Embarked\", \"Married_Status\"]\n",
    "preprocessor = create_preprocessor(numerical_cols_m, categorical_cols_m)"
   ]
  },
  {
   "attachments": {},
   "cell_type": "markdown",
   "metadata": {},
   "source": [
    "Create ensemble of KNN's"
   ]
  },
  {
   "cell_type": "code",
   "execution_count": 1123,
   "metadata": {},
   "outputs": [],
   "source": [
    "m1 = KNeighborsClassifier(n_neighbors=1)\n",
    "m2 = KNeighborsClassifier(n_neighbors=3)\n",
    "m3 = KNeighborsClassifier(n_neighbors=5)\n",
    "m4 = KNeighborsClassifier(n_neighbors=7)\n",
    "m5 = KNeighborsClassifier(n_neighbors=17)\n",
    "\n",
    "male_pipeline = Pipeline(\n",
    "    steps=[\n",
    "        (\"preprocessor\", preprocessor_m),\n",
    "        (\"voting\", VotingClassifier([(\"m1\", m1), (\"m2\", m2), (\"m3\", m3), (\"m4\", m4), (\"m5\", m5)])),\n",
    "    ]\n",
    ")"
   ]
  },
  {
   "cell_type": "code",
   "execution_count": 1124,
   "metadata": {},
   "outputs": [],
   "source": [
    "male_pipeline.fit(X_m, y_m)\n",
    "learn_train_m = male_pipeline.predict(X_m)"
   ]
  },
  {
   "cell_type": "code",
   "execution_count": 1125,
   "metadata": {},
   "outputs": [],
   "source": [
    "X_test_m = test_male[features_m]\n",
    "predictions_m = male_pipeline.predict(X_test_m)"
   ]
  },
  {
   "attachments": {},
   "cell_type": "markdown",
   "metadata": {},
   "source": [
    "### Solo Female AntiSurvival Model"
   ]
  },
  {
   "attachments": {},
   "cell_type": "markdown",
   "metadata": {},
   "source": [
    "Get isolated data"
   ]
  },
  {
   "cell_type": "code",
   "execution_count": 1126,
   "metadata": {},
   "outputs": [],
   "source": [
    "train_female, test_female = get_gender_based_data(\"female\")"
   ]
  },
  {
   "attachments": {},
   "cell_type": "markdown",
   "metadata": {},
   "source": [
    "Create preprocessor with given numerical and categorical columns"
   ]
  },
  {
   "cell_type": "code",
   "execution_count": 1127,
   "metadata": {},
   "outputs": [],
   "source": [
    "numerical_cols_f = [\"Adjusted_Fare\", \"Age\"]\n",
    "categorical_cols_f = [\"Pclass\", \"Deck\", \"Married_Status\"]\n",
    "preprocessor = create_preprocessor(numerical_cols_f, categorical_cols_f)"
   ]
  },
  {
   "attachments": {},
   "cell_type": "markdown",
   "metadata": {},
   "source": [
    "Create ensemble of KNN's"
   ]
  },
  {
   "cell_type": "code",
   "execution_count": 1128,
   "metadata": {},
   "outputs": [],
   "source": [
    "f1 = KNeighborsClassifier(n_neighbors=2)\n",
    "f2 = KNeighborsClassifier(n_neighbors=5)\n",
    "f3 = KNeighborsClassifier(n_neighbors=9)\n",
    "f4 = KNeighborsClassifier(n_neighbors=10)\n",
    "f5 = KNeighborsClassifier(n_neighbors=16)\n",
    "\n",
    "female_pipeline = Pipeline(\n",
    "    steps=[\n",
    "        (\"preprocessor\", preprocessor_f),\n",
    "        (\"voting\", VotingClassifier([(\"f1\", f1), (\"f2\", f2), (\"f3\", f3), (\"f4\", f4), (\"f5\", f5)])),\n",
    "    ]\n",
    ")"
   ]
  },
  {
   "cell_type": "code",
   "execution_count": 1129,
   "metadata": {},
   "outputs": [],
   "source": [
    "features_f = [\"Adjusted_Fare\", \"Pclass\", \"Deck\", \"Age\", \"Married_Status\"]\n",
    "y_f = train_female[\"Survived\"]\n",
    "X_f = train_female[features_f]"
   ]
  },
  {
   "cell_type": "code",
   "execution_count": 1130,
   "metadata": {},
   "outputs": [],
   "source": [
    "female_pipeline.fit(X_f, y_f)\n",
    "learn_train_f = female_pipeline.predict(X_f)"
   ]
  },
  {
   "cell_type": "code",
   "execution_count": 1131,
   "metadata": {},
   "outputs": [],
   "source": [
    "X_test_f = test_female[features_f]\n",
    "predictions_f = female_pipeline.predict(X_test_f)"
   ]
  },
  {
   "attachments": {},
   "cell_type": "markdown",
   "metadata": {},
   "source": [
    "### Save"
   ]
  },
  {
   "attachments": {},
   "cell_type": "markdown",
   "metadata": {},
   "source": [
    "Change the data according to the predicitons made by models"
   ]
  },
  {
   "cell_type": "code",
   "execution_count": 1132,
   "metadata": {},
   "outputs": [],
   "source": [
    "data.loc[891:1308, \"Survival_Prediction\"][\n",
    "    (data.Sex == \"female\") & (data.Group_Survival.isnull())\n",
    "] = predictions_f\n",
    "data.loc[891:1308, \"Survival_Prediction\"][\n",
    "    (data.Sex == \"male\") & (data.Group_Survival.isnull())\n",
    "] = predictions_m"
   ]
  },
  {
   "attachments": {},
   "cell_type": "markdown",
   "metadata": {},
   "source": [
    "Generate output file"
   ]
  },
  {
   "cell_type": "code",
   "execution_count": 1133,
   "metadata": {},
   "outputs": [],
   "source": [
    "output = pd.DataFrame(\n",
    "    {\n",
    "        \"PassengerId\": data[891:1309].PassengerId,\n",
    "        \"Survived\": data[891:1309].Survival_Prediction.astype(\"int\"),\n",
    "    }\n",
    ")\n",
    "output.to_csv(\"output/submission.csv\", index=False)"
   ]
  }
 ],
 "metadata": {
  "kernelspec": {
   "display_name": "Python 3",
   "language": "python",
   "name": "python3"
  },
  "language_info": {
   "codemirror_mode": {
    "name": "ipython",
    "version": 3
   },
   "file_extension": ".py",
   "mimetype": "text/x-python",
   "name": "python",
   "nbconvert_exporter": "python",
   "pygments_lexer": "ipython3",
   "version": "3.10.6"
  },
  "orig_nbformat": 4
 },
 "nbformat": 4,
 "nbformat_minor": 2
}
